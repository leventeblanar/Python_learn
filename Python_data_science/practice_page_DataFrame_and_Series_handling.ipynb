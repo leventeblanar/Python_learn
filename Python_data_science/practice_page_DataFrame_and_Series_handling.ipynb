{
 "cells": [
  {
   "cell_type": "code",
   "execution_count": 3,
   "metadata": {},
   "outputs": [],
   "source": [
    "import pandas as pd"
   ]
  },
  {
   "cell_type": "markdown",
   "metadata": {},
   "source": [
    "DataFrame létrehozása: szótárba rendezett listák, pd.DataFrame - df létrehozása"
   ]
  },
  {
   "cell_type": "code",
   "execution_count": 4,
   "metadata": {},
   "outputs": [
    {
     "name": "stdout",
     "output_type": "stream",
     "text": [
      "      Nev  Kor     Város\n",
      "0    Anna   22  Budapest\n",
      "1  Janika   11  Debrecen\n",
      "2   Zsóti   45    Szeged\n"
     ]
    }
   ],
   "source": [
    "data = {\n",
    "    'Nev': ['Anna', 'Janika', 'Zsóti'],\n",
    "    'Kor': [22, 11, 45],\n",
    "    'Város': ['Budapest', 'Debrecen', 'Szeged']\n",
    "}\n",
    "\n",
    "df = pd.DataFrame(data)\n",
    "print(df)"
   ]
  },
  {
   "cell_type": "code",
   "execution_count": 5,
   "metadata": {},
   "outputs": [
    {
     "name": "stdout",
     "output_type": "stream",
     "text": [
      "    Márka     Minőség            Ár\n",
      "0  Fender          Jó         Drága\n",
      "1  Gibson  Majdnem jó  Nagyon drága\n",
      "2  Ibanez     Néha jó       Sokféle\n"
     ]
    }
   ],
   "source": [
    "data = {\n",
    "    'Márka': ['Fender', 'Gibson', 'Ibanez'],\n",
    "    'Minőség': ['Jó', 'Majdnem jó', 'Néha jó'],\n",
    "    'Ár': ['Drága', 'Nagyon drága', 'Sokféle']\n",
    "}\n",
    "\n",
    "df = pd.DataFrame(data)\n",
    "\n",
    "print(df)"
   ]
  },
  {
   "cell_type": "markdown",
   "metadata": {},
   "source": [
    "Adatok betöltése (read_csv, read_excel, read_sql)"
   ]
  },
  {
   "cell_type": "code",
   "execution_count": null,
   "metadata": {},
   "outputs": [
    {
     "data": {
      "text/html": [
       "<div>\n",
       "<style scoped>\n",
       "    .dataframe tbody tr th:only-of-type {\n",
       "        vertical-align: middle;\n",
       "    }\n",
       "\n",
       "    .dataframe tbody tr th {\n",
       "        vertical-align: top;\n",
       "    }\n",
       "\n",
       "    .dataframe thead th {\n",
       "        text-align: right;\n",
       "    }\n",
       "</style>\n",
       "<table border=\"1\" class=\"dataframe\">\n",
       "  <thead>\n",
       "    <tr style=\"text-align: right;\">\n",
       "      <th></th>\n",
       "      <th>artist_id</th>\n",
       "      <th>name</th>\n",
       "    </tr>\n",
       "  </thead>\n",
       "  <tbody>\n",
       "    <tr>\n",
       "      <th>0</th>\n",
       "      <td>1</td>\n",
       "      <td>AC/DC</td>\n",
       "    </tr>\n",
       "    <tr>\n",
       "      <th>1</th>\n",
       "      <td>2</td>\n",
       "      <td>Accept</td>\n",
       "    </tr>\n",
       "    <tr>\n",
       "      <th>2</th>\n",
       "      <td>3</td>\n",
       "      <td>Aerosmith</td>\n",
       "    </tr>\n",
       "    <tr>\n",
       "      <th>3</th>\n",
       "      <td>4</td>\n",
       "      <td>Alanis Morissette</td>\n",
       "    </tr>\n",
       "    <tr>\n",
       "      <th>4</th>\n",
       "      <td>5</td>\n",
       "      <td>Alice In Chains</td>\n",
       "    </tr>\n",
       "    <tr>\n",
       "      <th>...</th>\n",
       "      <td>...</td>\n",
       "      <td>...</td>\n",
       "    </tr>\n",
       "    <tr>\n",
       "      <th>270</th>\n",
       "      <td>271</td>\n",
       "      <td>Mela Tenenbaum, Pro Musica Prague &amp; Richard Kapp</td>\n",
       "    </tr>\n",
       "    <tr>\n",
       "      <th>271</th>\n",
       "      <td>272</td>\n",
       "      <td>Emerson String Quartet</td>\n",
       "    </tr>\n",
       "    <tr>\n",
       "      <th>272</th>\n",
       "      <td>273</td>\n",
       "      <td>C. Monteverdi, Nigel Rogers - Chiaroscuro; Lon...</td>\n",
       "    </tr>\n",
       "    <tr>\n",
       "      <th>273</th>\n",
       "      <td>274</td>\n",
       "      <td>Nash Ensemble</td>\n",
       "    </tr>\n",
       "    <tr>\n",
       "      <th>274</th>\n",
       "      <td>275</td>\n",
       "      <td>Philip Glass Ensemble</td>\n",
       "    </tr>\n",
       "  </tbody>\n",
       "</table>\n",
       "<p>275 rows × 2 columns</p>\n",
       "</div>"
      ],
      "text/plain": [
       "     artist_id                                               name\n",
       "0            1                                              AC/DC\n",
       "1            2                                             Accept\n",
       "2            3                                          Aerosmith\n",
       "3            4                                  Alanis Morissette\n",
       "4            5                                    Alice In Chains\n",
       "..         ...                                                ...\n",
       "270        271   Mela Tenenbaum, Pro Musica Prague & Richard Kapp\n",
       "271        272                             Emerson String Quartet\n",
       "272        273  C. Monteverdi, Nigel Rogers - Chiaroscuro; Lon...\n",
       "273        274                                      Nash Ensemble\n",
       "274        275                              Philip Glass Ensemble\n",
       "\n",
       "[275 rows x 2 columns]"
      ]
     },
     "execution_count": 7,
     "metadata": {},
     "output_type": "execute_result"
    }
   ],
   "source": [
    "df = pd.read_csv('artist.csv') # nyilván itt érdemes első sorban relative path-el szolgálni (r\"C:\\Users\\diefi\\Documents\\GitHub\\Python_learn\\Python_data_science\\artist.csv\")\n",
    "\n",
    "df"
   ]
  },
  {
   "cell_type": "markdown",
   "metadata": {},
   "source": [
    "DataFrame szerkezetének megismerése(df.shape, df.head(), df.tail(), df.columns, df.dtypes, df.info(), df.describe(),)"
   ]
  },
  {
   "cell_type": "code",
   "execution_count": null,
   "metadata": {},
   "outputs": [
    {
     "name": "stdout",
     "output_type": "stream",
     "text": [
      "(275, 2)\n"
     ]
    }
   ],
   "source": [
    "print(df.shape) # megmutatja a sorok és oszlopok számát"
   ]
  },
  {
   "cell_type": "code",
   "execution_count": 9,
   "metadata": {},
   "outputs": [
    {
     "name": "stdout",
     "output_type": "stream",
     "text": [
      "   artist_id               name\n",
      "0          1              AC/DC\n",
      "1          2             Accept\n",
      "2          3          Aerosmith\n",
      "3          4  Alanis Morissette\n",
      "4          5    Alice In Chains\n",
      "     artist_id                                               name\n",
      "270        271   Mela Tenenbaum, Pro Musica Prague & Richard Kapp\n",
      "271        272                             Emerson String Quartet\n",
      "272        273  C. Monteverdi, Nigel Rogers - Chiaroscuro; Lon...\n",
      "273        274                                      Nash Ensemble\n",
      "274        275                              Philip Glass Ensemble\n"
     ]
    }
   ],
   "source": [
    "print(df.head()) # megmutat adott számú példát a df elejéről\n",
    "print(df.tail()) # megmutat adott számú példát a df végéről"
   ]
  },
  {
   "cell_type": "code",
   "execution_count": null,
   "metadata": {},
   "outputs": [
    {
     "name": "stdout",
     "output_type": "stream",
     "text": [
      "Index(['artist_id', 'name'], dtype='object')\n",
      "artist_id     int64\n",
      "name         object\n",
      "dtype: object\n"
     ]
    }
   ],
   "source": [
    "print(df.columns) # megmutatja az oszlopok neveit\n",
    "print(df.dtypes) # megmutatja az adattípusokat"
   ]
  },
  {
   "cell_type": "code",
   "execution_count": 12,
   "metadata": {},
   "outputs": [
    {
     "name": "stdout",
     "output_type": "stream",
     "text": [
      "<class 'pandas.core.frame.DataFrame'>\n",
      "RangeIndex: 275 entries, 0 to 274\n",
      "Data columns (total 2 columns):\n",
      " #   Column     Non-Null Count  Dtype \n",
      "---  ------     --------------  ----- \n",
      " 0   artist_id  275 non-null    int64 \n",
      " 1   name       275 non-null    object\n",
      "dtypes: int64(1), object(1)\n",
      "memory usage: 4.4+ KB\n",
      "None\n",
      "        artist_id\n",
      "count  275.000000\n",
      "mean   138.000000\n",
      "std     79.529869\n",
      "min      1.000000\n",
      "25%     69.500000\n",
      "50%    138.000000\n",
      "75%    206.500000\n",
      "max    275.000000\n"
     ]
    }
   ],
   "source": [
    "print(df.info()) # általános info a dataframe-ről (column, non-null count, Dtype)\n",
    "print(df.describe()) # numerikus oszlopok statisztikai összegzése (count, mean, std, min, 25%, 50%, 75%, max)"
   ]
  },
  {
   "cell_type": "code",
   "execution_count": null,
   "metadata": {},
   "outputs": [
    {
     "data": {
      "text/plain": [
       "0                                                  AC/DC\n",
       "1                                                 Accept\n",
       "2                                              Aerosmith\n",
       "3                                      Alanis Morissette\n",
       "4                                        Alice In Chains\n",
       "                             ...                        \n",
       "270     Mela Tenenbaum, Pro Musica Prague & Richard Kapp\n",
       "271                               Emerson String Quartet\n",
       "272    C. Monteverdi, Nigel Rogers - Chiaroscuro; Lon...\n",
       "273                                        Nash Ensemble\n",
       "274                                Philip Glass Ensemble\n",
       "Name: name, Length: 275, dtype: object"
      ]
     },
     "execution_count": 14,
     "metadata": {},
     "output_type": "execute_result"
    }
   ],
   "source": [
    "df['name'] # oszlop kiválasztás"
   ]
  },
  {
   "cell_type": "code",
   "execution_count": null,
   "metadata": {},
   "outputs": [
    {
     "data": {
      "text/html": [
       "<div>\n",
       "<style scoped>\n",
       "    .dataframe tbody tr th:only-of-type {\n",
       "        vertical-align: middle;\n",
       "    }\n",
       "\n",
       "    .dataframe tbody tr th {\n",
       "        vertical-align: top;\n",
       "    }\n",
       "\n",
       "    .dataframe thead th {\n",
       "        text-align: right;\n",
       "    }\n",
       "</style>\n",
       "<table border=\"1\" class=\"dataframe\">\n",
       "  <thead>\n",
       "    <tr style=\"text-align: right;\">\n",
       "      <th></th>\n",
       "      <th>artist_id</th>\n",
       "      <th>name</th>\n",
       "    </tr>\n",
       "  </thead>\n",
       "  <tbody>\n",
       "    <tr>\n",
       "      <th>0</th>\n",
       "      <td>1</td>\n",
       "      <td>AC/DC</td>\n",
       "    </tr>\n",
       "    <tr>\n",
       "      <th>1</th>\n",
       "      <td>2</td>\n",
       "      <td>Accept</td>\n",
       "    </tr>\n",
       "    <tr>\n",
       "      <th>2</th>\n",
       "      <td>3</td>\n",
       "      <td>Aerosmith</td>\n",
       "    </tr>\n",
       "    <tr>\n",
       "      <th>3</th>\n",
       "      <td>4</td>\n",
       "      <td>Alanis Morissette</td>\n",
       "    </tr>\n",
       "    <tr>\n",
       "      <th>4</th>\n",
       "      <td>5</td>\n",
       "      <td>Alice In Chains</td>\n",
       "    </tr>\n",
       "    <tr>\n",
       "      <th>...</th>\n",
       "      <td>...</td>\n",
       "      <td>...</td>\n",
       "    </tr>\n",
       "    <tr>\n",
       "      <th>270</th>\n",
       "      <td>271</td>\n",
       "      <td>Mela Tenenbaum, Pro Musica Prague &amp; Richard Kapp</td>\n",
       "    </tr>\n",
       "    <tr>\n",
       "      <th>271</th>\n",
       "      <td>272</td>\n",
       "      <td>Emerson String Quartet</td>\n",
       "    </tr>\n",
       "    <tr>\n",
       "      <th>272</th>\n",
       "      <td>273</td>\n",
       "      <td>C. Monteverdi, Nigel Rogers - Chiaroscuro; Lon...</td>\n",
       "    </tr>\n",
       "    <tr>\n",
       "      <th>273</th>\n",
       "      <td>274</td>\n",
       "      <td>Nash Ensemble</td>\n",
       "    </tr>\n",
       "    <tr>\n",
       "      <th>274</th>\n",
       "      <td>275</td>\n",
       "      <td>Philip Glass Ensemble</td>\n",
       "    </tr>\n",
       "  </tbody>\n",
       "</table>\n",
       "<p>275 rows × 2 columns</p>\n",
       "</div>"
      ],
      "text/plain": [
       "     artist_id                                               name\n",
       "0            1                                              AC/DC\n",
       "1            2                                             Accept\n",
       "2            3                                          Aerosmith\n",
       "3            4                                  Alanis Morissette\n",
       "4            5                                    Alice In Chains\n",
       "..         ...                                                ...\n",
       "270        271   Mela Tenenbaum, Pro Musica Prague & Richard Kapp\n",
       "271        272                             Emerson String Quartet\n",
       "272        273  C. Monteverdi, Nigel Rogers - Chiaroscuro; Lon...\n",
       "273        274                                      Nash Ensemble\n",
       "274        275                              Philip Glass Ensemble\n",
       "\n",
       "[275 rows x 2 columns]"
      ]
     },
     "execution_count": 15,
     "metadata": {},
     "output_type": "execute_result"
    }
   ],
   "source": [
    "df[['artist_id', 'name']] # több oszlop kiválasztása"
   ]
  },
  {
   "cell_type": "code",
   "execution_count": null,
   "metadata": {},
   "outputs": [
    {
     "data": {
      "text/plain": [
       "artist_id         2\n",
       "name         Accept\n",
       "Name: 1, dtype: object"
      ]
     },
     "execution_count": 16,
     "metadata": {},
     "output_type": "execute_result"
    }
   ],
   "source": [
    "df.loc[1] # adott sor kiválasztása index alapján"
   ]
  },
  {
   "cell_type": "code",
   "execution_count": null,
   "metadata": {},
   "outputs": [
    {
     "data": {
      "text/plain": [
       "'Accept'"
      ]
     },
     "execution_count": 18,
     "metadata": {},
     "output_type": "execute_result"
    }
   ],
   "source": [
    "df.loc[1, 'name'] # második sor Name oszlopa "
   ]
  },
  {
   "cell_type": "code",
   "execution_count": 20,
   "metadata": {},
   "outputs": [
    {
     "name": "stdout",
     "output_type": "stream",
     "text": [
      "    Márka     Minőség            Ár\n",
      "0  Fender          Jó         Drága\n",
      "1  Gibson  Majdnem jó  Nagyon drága\n",
      "2  Ibanez     Néha jó       Sokféle\n"
     ]
    }
   ],
   "source": [
    "data = {\n",
    "    'Márka': ['Fender', 'Gibson', 'Ibanez'],\n",
    "    'Minőség': ['Jó', 'Majdnem jó', 'Néha jó'],\n",
    "    'Ár': ['Drága', 'Nagyon drága', 'Sokféle']\n",
    "}\n",
    "\n",
    "df = pd.DataFrame(data)\n",
    "\n",
    "print(df)"
   ]
  },
  {
   "cell_type": "code",
   "execution_count": 23,
   "metadata": {},
   "outputs": [
    {
     "data": {
      "text/html": [
       "<div>\n",
       "<style scoped>\n",
       "    .dataframe tbody tr th:only-of-type {\n",
       "        vertical-align: middle;\n",
       "    }\n",
       "\n",
       "    .dataframe tbody tr th {\n",
       "        vertical-align: top;\n",
       "    }\n",
       "\n",
       "    .dataframe thead th {\n",
       "        text-align: right;\n",
       "    }\n",
       "</style>\n",
       "<table border=\"1\" class=\"dataframe\">\n",
       "  <thead>\n",
       "    <tr style=\"text-align: right;\">\n",
       "      <th></th>\n",
       "      <th>Márka</th>\n",
       "      <th>Minőség</th>\n",
       "      <th>Ár</th>\n",
       "      <th>Szeretem-e</th>\n",
       "      <th>Mennyire</th>\n",
       "    </tr>\n",
       "  </thead>\n",
       "  <tbody>\n",
       "    <tr>\n",
       "      <th>0</th>\n",
       "      <td>Fender</td>\n",
       "      <td>Jó</td>\n",
       "      <td>Drága</td>\n",
       "      <td>Igen</td>\n",
       "      <td>165</td>\n",
       "    </tr>\n",
       "    <tr>\n",
       "      <th>1</th>\n",
       "      <td>Gibson</td>\n",
       "      <td>Majdnem jó</td>\n",
       "      <td>Nagyon drága</td>\n",
       "      <td>Igen</td>\n",
       "      <td>180</td>\n",
       "    </tr>\n",
       "    <tr>\n",
       "      <th>2</th>\n",
       "      <td>Ibanez</td>\n",
       "      <td>Néha jó</td>\n",
       "      <td>Sokféle</td>\n",
       "      <td>Igen</td>\n",
       "      <td>175</td>\n",
       "    </tr>\n",
       "  </tbody>\n",
       "</table>\n",
       "</div>"
      ],
      "text/plain": [
       "    Márka     Minőség            Ár Szeretem-e  Mennyire\n",
       "0  Fender          Jó         Drága       Igen       165\n",
       "1  Gibson  Majdnem jó  Nagyon drága       Igen       180\n",
       "2  Ibanez     Néha jó       Sokféle       Igen       175"
      ]
     },
     "execution_count": 23,
     "metadata": {},
     "output_type": "execute_result"
    }
   ],
   "source": [
    "df['Mennyire'] = [165, 180, 175]  # oszlop hozzáadása\n",
    "\n",
    "df"
   ]
  },
  {
   "cell_type": "code",
   "execution_count": 25,
   "metadata": {},
   "outputs": [
    {
     "data": {
      "text/html": [
       "<div>\n",
       "<style scoped>\n",
       "    .dataframe tbody tr th:only-of-type {\n",
       "        vertical-align: middle;\n",
       "    }\n",
       "\n",
       "    .dataframe tbody tr th {\n",
       "        vertical-align: top;\n",
       "    }\n",
       "\n",
       "    .dataframe thead th {\n",
       "        text-align: right;\n",
       "    }\n",
       "</style>\n",
       "<table border=\"1\" class=\"dataframe\">\n",
       "  <thead>\n",
       "    <tr style=\"text-align: right;\">\n",
       "      <th></th>\n",
       "      <th>Márka</th>\n",
       "      <th>Minőség</th>\n",
       "      <th>Ár</th>\n",
       "      <th>Szeretem-e</th>\n",
       "      <th>Mennyire</th>\n",
       "    </tr>\n",
       "  </thead>\n",
       "  <tbody>\n",
       "    <tr>\n",
       "      <th>0</th>\n",
       "      <td>Fender</td>\n",
       "      <td>Jó</td>\n",
       "      <td>Drága</td>\n",
       "      <td>Igen</td>\n",
       "      <td>195</td>\n",
       "    </tr>\n",
       "    <tr>\n",
       "      <th>1</th>\n",
       "      <td>Gibson</td>\n",
       "      <td>Majdnem jó</td>\n",
       "      <td>Nagyon drága</td>\n",
       "      <td>Igen</td>\n",
       "      <td>210</td>\n",
       "    </tr>\n",
       "    <tr>\n",
       "      <th>2</th>\n",
       "      <td>Ibanez</td>\n",
       "      <td>Néha jó</td>\n",
       "      <td>Sokféle</td>\n",
       "      <td>Igen</td>\n",
       "      <td>205</td>\n",
       "    </tr>\n",
       "  </tbody>\n",
       "</table>\n",
       "</div>"
      ],
      "text/plain": [
       "    Márka     Minőség            Ár Szeretem-e  Mennyire\n",
       "0  Fender          Jó         Drága       Igen       195\n",
       "1  Gibson  Majdnem jó  Nagyon drága       Igen       210\n",
       "2  Ibanez     Néha jó       Sokféle       Igen       205"
      ]
     },
     "execution_count": 25,
     "metadata": {},
     "output_type": "execute_result"
    }
   ],
   "source": [
    "df['Mennyire'] = df['Mennyire'] + 15 # oszlop érték módosítás - mindegyiké\n",
    "\n",
    "df"
   ]
  },
  {
   "cell_type": "code",
   "execution_count": 29,
   "metadata": {},
   "outputs": [
    {
     "data": {
      "text/html": [
       "<div>\n",
       "<style scoped>\n",
       "    .dataframe tbody tr th:only-of-type {\n",
       "        vertical-align: middle;\n",
       "    }\n",
       "\n",
       "    .dataframe tbody tr th {\n",
       "        vertical-align: top;\n",
       "    }\n",
       "\n",
       "    .dataframe thead th {\n",
       "        text-align: right;\n",
       "    }\n",
       "</style>\n",
       "<table border=\"1\" class=\"dataframe\">\n",
       "  <thead>\n",
       "    <tr style=\"text-align: right;\">\n",
       "      <th></th>\n",
       "      <th>Márka</th>\n",
       "      <th>Milyenség</th>\n",
       "      <th>Ár</th>\n",
       "      <th>Szeretem-e</th>\n",
       "      <th>Mennyire</th>\n",
       "    </tr>\n",
       "  </thead>\n",
       "  <tbody>\n",
       "    <tr>\n",
       "      <th>0</th>\n",
       "      <td>Fender</td>\n",
       "      <td>Jó</td>\n",
       "      <td>Drága</td>\n",
       "      <td>Igen</td>\n",
       "      <td>195</td>\n",
       "    </tr>\n",
       "    <tr>\n",
       "      <th>1</th>\n",
       "      <td>Gibson</td>\n",
       "      <td>Majdnem jó</td>\n",
       "      <td>Nagyon drága</td>\n",
       "      <td>Igen</td>\n",
       "      <td>210</td>\n",
       "    </tr>\n",
       "    <tr>\n",
       "      <th>2</th>\n",
       "      <td>Ibanez</td>\n",
       "      <td>Néha jó</td>\n",
       "      <td>Sokféle</td>\n",
       "      <td>Igen</td>\n",
       "      <td>205</td>\n",
       "    </tr>\n",
       "  </tbody>\n",
       "</table>\n",
       "</div>"
      ],
      "text/plain": [
       "    Márka   Milyenség            Ár Szeretem-e  Mennyire\n",
       "0  Fender          Jó         Drága       Igen       195\n",
       "1  Gibson  Majdnem jó  Nagyon drága       Igen       210\n",
       "2  Ibanez     Néha jó       Sokféle       Igen       205"
      ]
     },
     "execution_count": 29,
     "metadata": {},
     "output_type": "execute_result"
    }
   ],
   "source": [
    "df = df.rename(columns={'Minőség': 'Milyenség'})  # oszlopnév módosítás\n",
    "\n",
    "df"
   ]
  }
 ],
 "metadata": {
  "kernelspec": {
   "display_name": "Python 3",
   "language": "python",
   "name": "python3"
  },
  "language_info": {
   "codemirror_mode": {
    "name": "ipython",
    "version": 3
   },
   "file_extension": ".py",
   "mimetype": "text/x-python",
   "name": "python",
   "nbconvert_exporter": "python",
   "pygments_lexer": "ipython3",
   "version": "3.13.1"
  }
 },
 "nbformat": 4,
 "nbformat_minor": 2
}
